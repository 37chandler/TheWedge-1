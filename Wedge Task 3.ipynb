{
 "cells": [
  {
   "cell_type": "markdown",
   "id": "d943d568",
   "metadata": {},
   "source": [
    "# Wedge Task 3\n",
    "It is useful to have summary files that allow you to quickly answer questions such as the following:\n",
    "•\tHow have our sales-by-day changed over the last few months?\n",
    "•\tWhat is our most popular item in each department?\n",
    "•\tWhich owners spend the most per month in each department?\n",
    "The classic way to structure data to answer these questions is in a relational database. In this task, you will build the summary text files that hold this data and populate a relational database with the data.\n",
    "Input\n",
    "You will process your owner records in GBQ to build the summary tables.\n",
    "Output\n",
    "For this task, you will build a single SQLite database via Python (in a .db file) containing three tables:\n",
    "1.\tSales by date by hour: By calendar date (YYYY-MM-DD) and hour of the day, determine the total spend in the store, the number of transactions, and a count of the number of items . \n",
    "2.\tSales by owner by year by month: A file that has the following columns: card_no, year, month, sales, transactions, and items. \n",
    "3.\tSales by product description by year by month: A file that has the following columns: upc, description, department number, department name, year, month, sales, transactions, and items.\n",
    "You will submit your Python code that builds the database. \n",
    "You are welcome to generate these tables via queries in Google Big Query, export the text files, and store them locally on your machine. Then you will need to write a Python script that creates the database, creates the tables, and fills those tables. Obviously, it’d be great to do the whole thing in Python. \n",
    "Deliverable\n",
    "The Python code that creates the summary tables. The Python code that builds the database. "
   ]
  },
  {
   "cell_type": "code",
   "execution_count": 1,
   "id": "bb35d4f3",
   "metadata": {},
   "outputs": [],
   "source": [
    "import sqlite3\n",
    "import os\n",
    "import pandas as pd\n",
    "import re\n",
    "import datetime \n",
    "import numpy as np\n",
    "import pandas_gbq\n",
    "\n",
    "# Do our imports for the code\n",
    "from google.cloud import bigquery\n",
    "from google.oauth2 import service_account"
   ]
  },
  {
   "cell_type": "markdown",
   "id": "4be68064",
   "metadata": {},
   "source": [
    "# GBQ Set-up"
   ]
  },
  {
   "cell_type": "code",
   "execution_count": 2,
   "id": "af17c241",
   "metadata": {},
   "outputs": [],
   "source": [
    "# These first two values will be different on your machine. \n",
    "service_path = \"C:\\\\Users\\\\jshay\\\\OneDrive\\\\Documents\\\\Applied Data Analytics\\\\Wedge\\\\\"\n",
    "service_file = 'umt-msba-gg-key.json'\n",
    "gbq_proj_id = 'umt-msba'\n",
    "dataset_id = 'transactions'\n",
    "\n",
    "# And this should stay the same. \n",
    "private_key =service_path + service_file"
   ]
  },
  {
   "cell_type": "code",
   "execution_count": 3,
   "id": "40f63629",
   "metadata": {},
   "outputs": [],
   "source": [
    "credentials = service_account.Credentials.from_service_account_file(service_path + service_file)"
   ]
  },
  {
   "cell_type": "code",
   "execution_count": 4,
   "id": "0b22fca0",
   "metadata": {},
   "outputs": [],
   "source": [
    "client = bigquery.Client(credentials = credentials, project=gbq_proj_id)"
   ]
  },
  {
   "cell_type": "code",
   "execution_count": 5,
   "id": "b62784c7",
   "metadata": {},
   "outputs": [
    {
     "name": "stdout",
     "output_type": "stream",
     "text": [
      "umt-msba:dram_shop\n",
      "umt-msba:transactions\n",
      "umt-msba:wedge_example\n",
      "umt-msba:wedge_transactions\n"
     ]
    }
   ],
   "source": [
    "for item in client.list_datasets() : \n",
    "    print(item.full_dataset_id)"
   ]
  },
  {
   "cell_type": "markdown",
   "id": "2013be1d",
   "metadata": {},
   "source": [
    "# Table 1 sales_date_hour"
   ]
  },
  {
   "cell_type": "code",
   "execution_count": 6,
   "id": "97db29e9",
   "metadata": {},
   "outputs": [
    {
     "name": "stderr",
     "output_type": "stream",
     "text": [
      "Downloading: 100%|██████████| 39312/39312 [00:02<00:00, 13798.20rows/s]\n"
     ]
    }
   ],
   "source": [
    "table_1 = \"\"\"SELECT  EXTRACT(DATE from datetime) AS date,\n",
    "                     EXTRACT(HOUR from datetime) AS hour,\n",
    "                     sum(total) AS spend,\n",
    "                     count(distinct(date(datetime) || register_no ||\n",
    "                                            emp_no || trans_no)) as Transactions,\n",
    "             sum(CASE WHEN (trans_status = 'V' or trans_status = 'R') THEN -1 ELSE 1 END) as Items\n",
    "             FROM `umt-msba.transactions.transArchive_*`\n",
    "             WHERE department != 0 and\n",
    "                   department != 15 and\n",
    "                  (trans_status = '' or \n",
    "                   trans_status = ' ' or \n",
    "                   trans_status = 'V' or \n",
    "                   trans_status = 'R')\n",
    "             GROUP BY date,hour\n",
    "             ORDER BY date,hour\"\"\"\n",
    "\n",
    "sales_date_hour = pandas_gbq.read_gbq(table_1,project_id = gbq_proj_id)"
   ]
  },
  {
   "cell_type": "code",
   "execution_count": 7,
   "id": "d8671a16",
   "metadata": {},
   "outputs": [
    {
     "data": {
      "text/html": [
       "<div>\n",
       "<style scoped>\n",
       "    .dataframe tbody tr th:only-of-type {\n",
       "        vertical-align: middle;\n",
       "    }\n",
       "\n",
       "    .dataframe tbody tr th {\n",
       "        vertical-align: top;\n",
       "    }\n",
       "\n",
       "    .dataframe thead th {\n",
       "        text-align: right;\n",
       "    }\n",
       "</style>\n",
       "<table border=\"1\" class=\"dataframe\">\n",
       "  <thead>\n",
       "    <tr style=\"text-align: right;\">\n",
       "      <th></th>\n",
       "      <th>date</th>\n",
       "      <th>hour</th>\n",
       "      <th>spend</th>\n",
       "      <th>Transactions</th>\n",
       "      <th>Items</th>\n",
       "    </tr>\n",
       "  </thead>\n",
       "  <tbody>\n",
       "    <tr>\n",
       "      <th>0</th>\n",
       "      <td>2010-01-01</td>\n",
       "      <td>9</td>\n",
       "      <td>1006.28</td>\n",
       "      <td>36</td>\n",
       "      <td>245</td>\n",
       "    </tr>\n",
       "    <tr>\n",
       "      <th>1</th>\n",
       "      <td>2010-01-01</td>\n",
       "      <td>10</td>\n",
       "      <td>3128.55</td>\n",
       "      <td>82</td>\n",
       "      <td>913</td>\n",
       "    </tr>\n",
       "    <tr>\n",
       "      <th>2</th>\n",
       "      <td>2010-01-01</td>\n",
       "      <td>11</td>\n",
       "      <td>4001.66</td>\n",
       "      <td>118</td>\n",
       "      <td>1108</td>\n",
       "    </tr>\n",
       "    <tr>\n",
       "      <th>3</th>\n",
       "      <td>2010-01-01</td>\n",
       "      <td>12</td>\n",
       "      <td>3886.51</td>\n",
       "      <td>124</td>\n",
       "      <td>1143</td>\n",
       "    </tr>\n",
       "    <tr>\n",
       "      <th>4</th>\n",
       "      <td>2010-01-01</td>\n",
       "      <td>13</td>\n",
       "      <td>4654.52</td>\n",
       "      <td>154</td>\n",
       "      <td>1365</td>\n",
       "    </tr>\n",
       "    <tr>\n",
       "      <th>...</th>\n",
       "      <td>...</td>\n",
       "      <td>...</td>\n",
       "      <td>...</td>\n",
       "      <td>...</td>\n",
       "      <td>...</td>\n",
       "    </tr>\n",
       "    <tr>\n",
       "      <th>39307</th>\n",
       "      <td>2017-01-31</td>\n",
       "      <td>18</td>\n",
       "      <td>6992.52</td>\n",
       "      <td>255</td>\n",
       "      <td>1713</td>\n",
       "    </tr>\n",
       "    <tr>\n",
       "      <th>39308</th>\n",
       "      <td>2017-01-31</td>\n",
       "      <td>19</td>\n",
       "      <td>5395.00</td>\n",
       "      <td>208</td>\n",
       "      <td>1376</td>\n",
       "    </tr>\n",
       "    <tr>\n",
       "      <th>39309</th>\n",
       "      <td>2017-01-31</td>\n",
       "      <td>20</td>\n",
       "      <td>4635.16</td>\n",
       "      <td>160</td>\n",
       "      <td>1236</td>\n",
       "    </tr>\n",
       "    <tr>\n",
       "      <th>39310</th>\n",
       "      <td>2017-01-31</td>\n",
       "      <td>21</td>\n",
       "      <td>2910.39</td>\n",
       "      <td>115</td>\n",
       "      <td>833</td>\n",
       "    </tr>\n",
       "    <tr>\n",
       "      <th>39311</th>\n",
       "      <td>2017-01-31</td>\n",
       "      <td>22</td>\n",
       "      <td>34.55</td>\n",
       "      <td>1</td>\n",
       "      <td>11</td>\n",
       "    </tr>\n",
       "  </tbody>\n",
       "</table>\n",
       "<p>39312 rows × 5 columns</p>\n",
       "</div>"
      ],
      "text/plain": [
       "             date  hour    spend  Transactions  Items\n",
       "0      2010-01-01     9  1006.28            36    245\n",
       "1      2010-01-01    10  3128.55            82    913\n",
       "2      2010-01-01    11  4001.66           118   1108\n",
       "3      2010-01-01    12  3886.51           124   1143\n",
       "4      2010-01-01    13  4654.52           154   1365\n",
       "...           ...   ...      ...           ...    ...\n",
       "39307  2017-01-31    18  6992.52           255   1713\n",
       "39308  2017-01-31    19  5395.00           208   1376\n",
       "39309  2017-01-31    20  4635.16           160   1236\n",
       "39310  2017-01-31    21  2910.39           115    833\n",
       "39311  2017-01-31    22    34.55             1     11\n",
       "\n",
       "[39312 rows x 5 columns]"
      ]
     },
     "execution_count": 7,
     "metadata": {},
     "output_type": "execute_result"
    }
   ],
   "source": [
    "sales_date_hour"
   ]
  },
  {
   "cell_type": "markdown",
   "id": "da94528f",
   "metadata": {},
   "source": [
    "# Table 2 sales_owner_ym"
   ]
  },
  {
   "cell_type": "code",
   "execution_count": 8,
   "id": "1390e989",
   "metadata": {},
   "outputs": [
    {
     "name": "stderr",
     "output_type": "stream",
     "text": [
      "Downloading: 100%|██████████| 5916674/5916674 [05:31<00:00, 17871.28rows/s]\n"
     ]
    }
   ],
   "source": [
    "table_2 = \"\"\"SELECT card_no,\n",
    "                     EXTRACT(YEAR from datetime) AS year,\n",
    "                     EXTRACT(MONTH from datetime) AS month,\n",
    "                     sum(total) AS spend,\n",
    "                     count(distinct(date(datetime) || register_no ||\n",
    "                                            emp_no || trans_no)) as Transactions,\n",
    "             sum(CASE WHEN (trans_status = 'V' or trans_status = 'R') THEN -1 ELSE 1 END) as Items\n",
    "             FROM `umt-msba.transactions.transArchive_*`\n",
    "             WHERE department != 0 and\n",
    "                   department != 15 and\n",
    "                  (trans_status = '' or \n",
    "                   trans_status = ' ' or \n",
    "                   trans_status = 'V' or \n",
    "                   trans_status = 'R')\n",
    "             GROUP BY card_no, department, year, month\n",
    "             ORDER BY Year, Month DESC\"\"\"\n",
    "\n",
    "sales_owner_ym = pandas_gbq.read_gbq(table_2,project_id = gbq_proj_id)"
   ]
  },
  {
   "cell_type": "code",
   "execution_count": 9,
   "id": "31436296",
   "metadata": {},
   "outputs": [
    {
     "data": {
      "text/html": [
       "<div>\n",
       "<style scoped>\n",
       "    .dataframe tbody tr th:only-of-type {\n",
       "        vertical-align: middle;\n",
       "    }\n",
       "\n",
       "    .dataframe tbody tr th {\n",
       "        vertical-align: top;\n",
       "    }\n",
       "\n",
       "    .dataframe thead th {\n",
       "        text-align: right;\n",
       "    }\n",
       "</style>\n",
       "<table border=\"1\" class=\"dataframe\">\n",
       "  <thead>\n",
       "    <tr style=\"text-align: right;\">\n",
       "      <th></th>\n",
       "      <th>card_no</th>\n",
       "      <th>year</th>\n",
       "      <th>month</th>\n",
       "      <th>spend</th>\n",
       "      <th>Transactions</th>\n",
       "      <th>Items</th>\n",
       "    </tr>\n",
       "  </thead>\n",
       "  <tbody>\n",
       "    <tr>\n",
       "      <th>0</th>\n",
       "      <td>10310.0</td>\n",
       "      <td>2010</td>\n",
       "      <td>12</td>\n",
       "      <td>17.75</td>\n",
       "      <td>2</td>\n",
       "      <td>5</td>\n",
       "    </tr>\n",
       "    <tr>\n",
       "      <th>1</th>\n",
       "      <td>19339.0</td>\n",
       "      <td>2010</td>\n",
       "      <td>12</td>\n",
       "      <td>2.58</td>\n",
       "      <td>1</td>\n",
       "      <td>2</td>\n",
       "    </tr>\n",
       "    <tr>\n",
       "      <th>2</th>\n",
       "      <td>16130.0</td>\n",
       "      <td>2010</td>\n",
       "      <td>12</td>\n",
       "      <td>9.96</td>\n",
       "      <td>1</td>\n",
       "      <td>4</td>\n",
       "    </tr>\n",
       "    <tr>\n",
       "      <th>3</th>\n",
       "      <td>23261.0</td>\n",
       "      <td>2010</td>\n",
       "      <td>12</td>\n",
       "      <td>5.49</td>\n",
       "      <td>1</td>\n",
       "      <td>1</td>\n",
       "    </tr>\n",
       "    <tr>\n",
       "      <th>4</th>\n",
       "      <td>24162.0</td>\n",
       "      <td>2010</td>\n",
       "      <td>12</td>\n",
       "      <td>27.25</td>\n",
       "      <td>1</td>\n",
       "      <td>1</td>\n",
       "    </tr>\n",
       "    <tr>\n",
       "      <th>...</th>\n",
       "      <td>...</td>\n",
       "      <td>...</td>\n",
       "      <td>...</td>\n",
       "      <td>...</td>\n",
       "      <td>...</td>\n",
       "      <td>...</td>\n",
       "    </tr>\n",
       "    <tr>\n",
       "      <th>5916669</th>\n",
       "      <td>23071.0</td>\n",
       "      <td>2017</td>\n",
       "      <td>1</td>\n",
       "      <td>111.91</td>\n",
       "      <td>3</td>\n",
       "      <td>37</td>\n",
       "    </tr>\n",
       "    <tr>\n",
       "      <th>5916670</th>\n",
       "      <td>30725.0</td>\n",
       "      <td>2017</td>\n",
       "      <td>1</td>\n",
       "      <td>10.68</td>\n",
       "      <td>1</td>\n",
       "      <td>2</td>\n",
       "    </tr>\n",
       "    <tr>\n",
       "      <th>5916671</th>\n",
       "      <td>52808.0</td>\n",
       "      <td>2017</td>\n",
       "      <td>1</td>\n",
       "      <td>8.00</td>\n",
       "      <td>2</td>\n",
       "      <td>4</td>\n",
       "    </tr>\n",
       "    <tr>\n",
       "      <th>5916672</th>\n",
       "      <td>20985.0</td>\n",
       "      <td>2017</td>\n",
       "      <td>1</td>\n",
       "      <td>6.70</td>\n",
       "      <td>1</td>\n",
       "      <td>2</td>\n",
       "    </tr>\n",
       "    <tr>\n",
       "      <th>5916673</th>\n",
       "      <td>16470.0</td>\n",
       "      <td>2017</td>\n",
       "      <td>1</td>\n",
       "      <td>7.37</td>\n",
       "      <td>2</td>\n",
       "      <td>3</td>\n",
       "    </tr>\n",
       "  </tbody>\n",
       "</table>\n",
       "<p>5916674 rows × 6 columns</p>\n",
       "</div>"
      ],
      "text/plain": [
       "         card_no  year  month   spend  Transactions  Items\n",
       "0        10310.0  2010     12   17.75             2      5\n",
       "1        19339.0  2010     12    2.58             1      2\n",
       "2        16130.0  2010     12    9.96             1      4\n",
       "3        23261.0  2010     12    5.49             1      1\n",
       "4        24162.0  2010     12   27.25             1      1\n",
       "...          ...   ...    ...     ...           ...    ...\n",
       "5916669  23071.0  2017      1  111.91             3     37\n",
       "5916670  30725.0  2017      1   10.68             1      2\n",
       "5916671  52808.0  2017      1    8.00             2      4\n",
       "5916672  20985.0  2017      1    6.70             1      2\n",
       "5916673  16470.0  2017      1    7.37             2      3\n",
       "\n",
       "[5916674 rows x 6 columns]"
      ]
     },
     "execution_count": 9,
     "metadata": {},
     "output_type": "execute_result"
    }
   ],
   "source": [
    "sales_owner_ym"
   ]
  },
  {
   "cell_type": "markdown",
   "id": "16a1e478",
   "metadata": {},
   "source": [
    "# Table 3 sales_prod_ym"
   ]
  },
  {
   "cell_type": "code",
   "execution_count": 10,
   "id": "4170ba91",
   "metadata": {},
   "outputs": [
    {
     "name": "stderr",
     "output_type": "stream",
     "text": [
      "Downloading: 100%|██████████| 1183434/1183434 [02:02<00:00, 9632.72rows/s] \n"
     ]
    }
   ],
   "source": [
    "table_3 = \"\"\"SELECT upc,\n",
    "                    tr.description AS prod_desc,\n",
    "                    tr.department AS dept,\n",
    "                    dd.dept_name AS dept_name,\n",
    "                    EXTRACT(YEAR from datetime) AS year,\n",
    "                    EXTRACT(MONTH from datetime) AS month,\n",
    "                    sum(total) AS spend,\n",
    "                    count(distinct(date(datetime) || register_no ||\n",
    "                                           emp_no || trans_no)) as Transactions,\n",
    "               sum(CASE WHEN (trans_status = 'V' or trans_status = 'R') THEN -1 ELSE 1 END) as Items\n",
    "               FROM `umt-msba.transactions.transArchive_*` tr\n",
    "                LEFT JOIN `umt-msba.wedge_example.departments`dd\n",
    "                    ON tr.department = dd.department\n",
    "               WHERE tr.department != 0 and\n",
    "                    tr.department != 15 and\n",
    "                    trans_status != 'M' and\n",
    "                    trans_status != 'C' and\n",
    "                    trans_status != 'J' and\n",
    "                   (trans_status = '' or \n",
    "                    trans_status = ' ' or \n",
    "                    trans_status = 'V' or \n",
    "                    trans_status = 'R')\n",
    "                GROUP BY upc, prod_desc, year, month, tr.department, dd.dept_name\n",
    "                ORDER BY spend DESC\"\"\"\n",
    "sales_prod_ym = pandas_gbq.read_gbq(table_3,project_id = gbq_proj_id)"
   ]
  },
  {
   "cell_type": "code",
   "execution_count": 11,
   "id": "ba944f8a",
   "metadata": {},
   "outputs": [
    {
     "data": {
      "text/html": [
       "<div>\n",
       "<style scoped>\n",
       "    .dataframe tbody tr th:only-of-type {\n",
       "        vertical-align: middle;\n",
       "    }\n",
       "\n",
       "    .dataframe tbody tr th {\n",
       "        vertical-align: top;\n",
       "    }\n",
       "\n",
       "    .dataframe thead th {\n",
       "        text-align: right;\n",
       "    }\n",
       "</style>\n",
       "<table border=\"1\" class=\"dataframe\">\n",
       "  <thead>\n",
       "    <tr style=\"text-align: right;\">\n",
       "      <th></th>\n",
       "      <th>upc</th>\n",
       "      <th>prod_desc</th>\n",
       "      <th>dept</th>\n",
       "      <th>dept_name</th>\n",
       "      <th>year</th>\n",
       "      <th>month</th>\n",
       "      <th>spend</th>\n",
       "      <th>Transactions</th>\n",
       "      <th>Items</th>\n",
       "    </tr>\n",
       "  </thead>\n",
       "  <tbody>\n",
       "    <tr>\n",
       "      <th>0</th>\n",
       "      <td>0000000007025</td>\n",
       "      <td>Hot Bar Container</td>\n",
       "      <td>8.0</td>\n",
       "      <td>DELI</td>\n",
       "      <td>2017</td>\n",
       "      <td>1</td>\n",
       "      <td>46009.55</td>\n",
       "      <td>5725</td>\n",
       "      <td>6232</td>\n",
       "    </tr>\n",
       "    <tr>\n",
       "      <th>1</th>\n",
       "      <td>0000000007025</td>\n",
       "      <td>Hot Bar Container</td>\n",
       "      <td>8.0</td>\n",
       "      <td>DELI</td>\n",
       "      <td>2016</td>\n",
       "      <td>12</td>\n",
       "      <td>45076.97</td>\n",
       "      <td>5588</td>\n",
       "      <td>6117</td>\n",
       "    </tr>\n",
       "    <tr>\n",
       "      <th>2</th>\n",
       "      <td>0000000007025</td>\n",
       "      <td>Hot Bar Container</td>\n",
       "      <td>8.0</td>\n",
       "      <td>DELI</td>\n",
       "      <td>2016</td>\n",
       "      <td>11</td>\n",
       "      <td>42844.83</td>\n",
       "      <td>5393</td>\n",
       "      <td>5905</td>\n",
       "    </tr>\n",
       "    <tr>\n",
       "      <th>3</th>\n",
       "      <td>0000000000338</td>\n",
       "      <td>O.Blueberries WI pkg.</td>\n",
       "      <td>2.0</td>\n",
       "      <td>PRODUCE</td>\n",
       "      <td>2011</td>\n",
       "      <td>8</td>\n",
       "      <td>37502.50</td>\n",
       "      <td>6288</td>\n",
       "      <td>6644</td>\n",
       "    </tr>\n",
       "    <tr>\n",
       "      <th>4</th>\n",
       "      <td>0003338320038</td>\n",
       "      <td>O.Strawberries 16oz pkg.</td>\n",
       "      <td>2.0</td>\n",
       "      <td>PRODUCE</td>\n",
       "      <td>2010</td>\n",
       "      <td>5</td>\n",
       "      <td>37406.22</td>\n",
       "      <td>7645</td>\n",
       "      <td>8675</td>\n",
       "    </tr>\n",
       "    <tr>\n",
       "      <th>...</th>\n",
       "      <td>...</td>\n",
       "      <td>...</td>\n",
       "      <td>...</td>\n",
       "      <td>...</td>\n",
       "      <td>...</td>\n",
       "      <td>...</td>\n",
       "      <td>...</td>\n",
       "      <td>...</td>\n",
       "      <td>...</td>\n",
       "    </tr>\n",
       "    <tr>\n",
       "      <th>1183429</th>\n",
       "      <td>0000000008005</td>\n",
       "      <td>MEMBER DISCOUNT</td>\n",
       "      <td>1.0</td>\n",
       "      <td>PACKAGED GROCERY</td>\n",
       "      <td>2010</td>\n",
       "      <td>1</td>\n",
       "      <td>-12637.50</td>\n",
       "      <td>3382</td>\n",
       "      <td>3913</td>\n",
       "    </tr>\n",
       "    <tr>\n",
       "      <th>1183430</th>\n",
       "      <td>0000000008005</td>\n",
       "      <td>MEMBER DISCOUNT</td>\n",
       "      <td>1.0</td>\n",
       "      <td>PACKAGED GROCERY</td>\n",
       "      <td>2010</td>\n",
       "      <td>3</td>\n",
       "      <td>-13092.50</td>\n",
       "      <td>3592</td>\n",
       "      <td>4133</td>\n",
       "    </tr>\n",
       "    <tr>\n",
       "      <th>1183431</th>\n",
       "      <td>0000000008005</td>\n",
       "      <td>MEMBER DISCOUNT</td>\n",
       "      <td>1.0</td>\n",
       "      <td>PACKAGED GROCERY</td>\n",
       "      <td>2010</td>\n",
       "      <td>6</td>\n",
       "      <td>-43072.50</td>\n",
       "      <td>10311</td>\n",
       "      <td>12502</td>\n",
       "    </tr>\n",
       "    <tr>\n",
       "      <th>1183432</th>\n",
       "      <td>0000000008005</td>\n",
       "      <td>MEMBER DISCOUNT</td>\n",
       "      <td>1.0</td>\n",
       "      <td>PACKAGED GROCERY</td>\n",
       "      <td>2010</td>\n",
       "      <td>2</td>\n",
       "      <td>-44642.50</td>\n",
       "      <td>10548</td>\n",
       "      <td>13323</td>\n",
       "    </tr>\n",
       "    <tr>\n",
       "      <th>1183433</th>\n",
       "      <td>0000000008005</td>\n",
       "      <td>MEMBER DISCOUNT</td>\n",
       "      <td>1.0</td>\n",
       "      <td>PACKAGED GROCERY</td>\n",
       "      <td>2010</td>\n",
       "      <td>4</td>\n",
       "      <td>-46552.50</td>\n",
       "      <td>11175</td>\n",
       "      <td>13860</td>\n",
       "    </tr>\n",
       "  </tbody>\n",
       "</table>\n",
       "<p>1183434 rows × 9 columns</p>\n",
       "</div>"
      ],
      "text/plain": [
       "                   upc                 prod_desc  dept         dept_name  \\\n",
       "0        0000000007025         Hot Bar Container   8.0              DELI   \n",
       "1        0000000007025         Hot Bar Container   8.0              DELI   \n",
       "2        0000000007025         Hot Bar Container   8.0              DELI   \n",
       "3        0000000000338     O.Blueberries WI pkg.   2.0           PRODUCE   \n",
       "4        0003338320038  O.Strawberries 16oz pkg.   2.0           PRODUCE   \n",
       "...                ...                       ...   ...               ...   \n",
       "1183429  0000000008005           MEMBER DISCOUNT   1.0  PACKAGED GROCERY   \n",
       "1183430  0000000008005           MEMBER DISCOUNT   1.0  PACKAGED GROCERY   \n",
       "1183431  0000000008005           MEMBER DISCOUNT   1.0  PACKAGED GROCERY   \n",
       "1183432  0000000008005           MEMBER DISCOUNT   1.0  PACKAGED GROCERY   \n",
       "1183433  0000000008005           MEMBER DISCOUNT   1.0  PACKAGED GROCERY   \n",
       "\n",
       "         year  month     spend  Transactions  Items  \n",
       "0        2017      1  46009.55          5725   6232  \n",
       "1        2016     12  45076.97          5588   6117  \n",
       "2        2016     11  42844.83          5393   5905  \n",
       "3        2011      8  37502.50          6288   6644  \n",
       "4        2010      5  37406.22          7645   8675  \n",
       "...       ...    ...       ...           ...    ...  \n",
       "1183429  2010      1 -12637.50          3382   3913  \n",
       "1183430  2010      3 -13092.50          3592   4133  \n",
       "1183431  2010      6 -43072.50         10311  12502  \n",
       "1183432  2010      2 -44642.50         10548  13323  \n",
       "1183433  2010      4 -46552.50         11175  13860  \n",
       "\n",
       "[1183434 rows x 9 columns]"
      ]
     },
     "execution_count": 11,
     "metadata": {},
     "output_type": "execute_result"
    }
   ],
   "source": [
    "sales_prod_ym"
   ]
  },
  {
   "cell_type": "markdown",
   "id": "fd368631",
   "metadata": {},
   "source": [
    "# Insert Tables into SQL Database"
   ]
  },
  {
   "cell_type": "code",
   "execution_count": 12,
   "id": "7227887c",
   "metadata": {},
   "outputs": [],
   "source": [
    "my_wedge = sqlite3.connect(\"task3_wedge.db\")"
   ]
  },
  {
   "cell_type": "code",
   "execution_count": 13,
   "id": "505749be",
   "metadata": {},
   "outputs": [
    {
     "data": {
      "text/plain": [
       "39312"
      ]
     },
     "execution_count": 13,
     "metadata": {},
     "output_type": "execute_result"
    }
   ],
   "source": [
    "sales_date_hour.to_sql(name = 'sales_date_hour', con = my_wedge)"
   ]
  },
  {
   "cell_type": "code",
   "execution_count": 14,
   "id": "805a6fcf",
   "metadata": {},
   "outputs": [
    {
     "data": {
      "text/plain": [
       "5916674"
      ]
     },
     "execution_count": 14,
     "metadata": {},
     "output_type": "execute_result"
    }
   ],
   "source": [
    "sales_owner_ym.to_sql(name = 'sales_owner_ym', con = my_wedge)"
   ]
  },
  {
   "cell_type": "code",
   "execution_count": 15,
   "id": "903e2ec9",
   "metadata": {},
   "outputs": [
    {
     "data": {
      "text/plain": [
       "1183434"
      ]
     },
     "execution_count": 15,
     "metadata": {},
     "output_type": "execute_result"
    }
   ],
   "source": [
    "sales_prod_ym.to_sql(name = 'sales_prod_ym', con = my_wedge)"
   ]
  },
  {
   "cell_type": "code",
   "execution_count": 16,
   "id": "e93163a3",
   "metadata": {},
   "outputs": [],
   "source": [
    "my_wedge.close()"
   ]
  }
 ],
 "metadata": {
  "kernelspec": {
   "display_name": "Python 3 (ipykernel)",
   "language": "python",
   "name": "python3"
  },
  "language_info": {
   "codemirror_mode": {
    "name": "ipython",
    "version": 3
   },
   "file_extension": ".py",
   "mimetype": "text/x-python",
   "name": "python",
   "nbconvert_exporter": "python",
   "pygments_lexer": "ipython3",
   "version": "3.9.13"
  }
 },
 "nbformat": 4,
 "nbformat_minor": 5
}
