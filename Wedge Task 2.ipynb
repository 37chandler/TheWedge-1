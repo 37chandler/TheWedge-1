{
 "cells": [
  {
   "cell_type": "markdown",
   "id": "ce8b2006",
   "metadata": {},
   "source": [
    "# Task 2: A Sample of Owners\n",
    "These files are not easy to use in their current chronological arrangement, though having them in a large system like GBQ will solve a lot of our problems. Nevertheless, it’ll be convenient to have a local sample of owners to do work. \n",
    "This task asks you to generate a file of owners where the file contains every record for each owner. There will be more than one owner in the file, and I do not want you to include card_no==3, which is the code for non-owners. The size of the sample is up to you, but I’d recommend shooting for a sample that’s around 250 MB. That’s big enough to be rich, but small enough to be fast. Ish.\n",
    "\n",
    "Deliverable\n",
    "A python script that handles the following tasks: \n",
    "1.\tConnects to your GBQ instance.\n",
    "2.\tBuilds a list of owners. \n",
    "3.\tTakes a sample of the owners. \n",
    "4.\tExtracts all records associated with those owners and writes them to a local text file. \n",
    "\n",
    "You’ll submit your code carrying out the steps. "
   ]
  },
  {
   "cell_type": "code",
   "execution_count": 1,
   "id": "77fabacf",
   "metadata": {},
   "outputs": [],
   "source": [
    "import os\n",
    "import re\n",
    "import datetime \n",
    "\n",
    "import pandas as pd\n",
    "import numpy as np\n",
    "import matplotlib.pyplot as plt\n",
    "import pandas_gbq\n",
    "import janitor\n",
    "\n",
    "# Do our imports for the code\n",
    "from google.cloud import bigquery\n",
    "from google.oauth2 import service_account"
   ]
  },
  {
   "cell_type": "markdown",
   "id": "9f073047",
   "metadata": {},
   "source": [
    "# GBQ Set-up"
   ]
  },
  {
   "cell_type": "code",
   "execution_count": 2,
   "id": "716fc789",
   "metadata": {},
   "outputs": [],
   "source": [
    "# These first two values will be different on your machine. \n",
    "service_path = \"C:\\\\Users\\\\jshay\\\\OneDrive\\\\Documents\\\\Applied Data Analytics\\\\Wedge\\\\\"\n",
    "service_file = 'umt-msba-gg-key.json'\n",
    "gbq_proj_id = 'umt-msba'\n",
    "dataset_id = 'transactions'\n",
    "\n",
    "# And this should stay the same. \n",
    "private_key =service_path + service_file"
   ]
  },
  {
   "cell_type": "code",
   "execution_count": 3,
   "id": "80589bb0",
   "metadata": {},
   "outputs": [],
   "source": [
    "# Now we pass in our credentials so that Python has permission to access our project.\n",
    "credentials = service_account.Credentials.from_service_account_file(service_path + service_file)"
   ]
  },
  {
   "cell_type": "code",
   "execution_count": 4,
   "id": "71333e4d",
   "metadata": {},
   "outputs": [],
   "source": [
    "# And finally we establish our connection\n",
    "client = bigquery.Client(credentials = credentials, project=gbq_proj_id)"
   ]
  },
  {
   "cell_type": "code",
   "execution_count": 5,
   "id": "7aafc61e",
   "metadata": {},
   "outputs": [
    {
     "name": "stdout",
     "output_type": "stream",
     "text": [
      "umt-msba:dram_shop\n",
      "umt-msba:transactions\n",
      "umt-msba:wedge_example\n",
      "umt-msba:wedge_transactions\n"
     ]
    }
   ],
   "source": [
    "for item in client.list_datasets() : \n",
    "    print(item.full_dataset_id)"
   ]
  },
  {
   "cell_type": "markdown",
   "id": "fc18cf46",
   "metadata": {},
   "source": [
    "# Build Owner List/Extract All Records"
   ]
  },
  {
   "cell_type": "code",
   "execution_count": 6,
   "id": "6ed0f14d",
   "metadata": {},
   "outputs": [
    {
     "name": "stderr",
     "output_type": "stream",
     "text": [
      "Downloading: 100%|██████████| 27207/27207 [00:01<00:00, 17191.50rows/s]\n"
     ]
    }
   ],
   "source": [
    "#SQL Query \n",
    "ownerq1 = \"\"\"\n",
    "    SELECT DISTINCT(card_no) AS dc\n",
    "    FROM `umt-msba.transactions.transArchive_*`\n",
    "    WHERE card_no != 3\n",
    "\"\"\"\n",
    "\n",
    "owners_list = pandas_gbq.read_gbq(ownerq1,project_id = gbq_proj_id)"
   ]
  },
  {
   "cell_type": "code",
   "execution_count": 7,
   "id": "d8865bce",
   "metadata": {},
   "outputs": [],
   "source": [
    "owners_list = owners_list.sample(n = 30)\n",
    "\n",
    "wedge_owners = owners_list.dc.tolist()"
   ]
  },
  {
   "cell_type": "code",
   "execution_count": 8,
   "id": "6c0058e8",
   "metadata": {},
   "outputs": [
    {
     "name": "stdout",
     "output_type": "stream",
     "text": [
      "[10623.0, 15461.0, 51381.0, 50597.0, 59938.0, 16834.0, 51744.0, 14689.0, 14780.0, 34298.0, 51322.0, 17878.0, 10480.0, 64990.0, 11171.0, 15419.0, 18878.0, 37515.0, 14542.0, 17854.0, 47954.0, 24204.0, 51137.0, 13962.0, 16797.0, 65836.0, 16909.0, 11641.0, 22755.0, 15697.0]\n"
     ]
    }
   ],
   "source": [
    "print(wedge_owners)"
   ]
  },
  {
   "cell_type": "code",
   "execution_count": 9,
   "id": "211853f0",
   "metadata": {},
   "outputs": [],
   "source": [
    "owners_sample = \"\"\"\n",
    "    SELECT *\n",
    "    FROM `umt-msba.transactions.transArchive_*`\n",
    "    WHERE card_no IN (\n",
    "\"\"\""
   ]
  },
  {
   "cell_type": "code",
   "execution_count": 10,
   "id": "0328bfc7",
   "metadata": {},
   "outputs": [
    {
     "data": {
      "text/plain": [
       "'10623.0,15461.0,51381.0,50597.0,59938.0,16834.0,51744.0,14689.0,14780.0,34298.0,51322.0,17878.0,10480.0,64990.0,11171.0,15419.0,18878.0,37515.0,14542.0,17854.0,47954.0,24204.0,51137.0,13962.0,16797.0,65836.0,16909.0,11641.0,22755.0,15697.0'"
      ]
     },
     "execution_count": 10,
     "metadata": {},
     "output_type": "execute_result"
    }
   ],
   "source": [
    "\",\".join([str(num) for num in wedge_owners])"
   ]
  },
  {
   "cell_type": "code",
   "execution_count": 11,
   "id": "f60d3fb5",
   "metadata": {},
   "outputs": [],
   "source": [
    "final_owners = owners_sample+\",\".join([str(num) for num in wedge_owners])+')'"
   ]
  },
  {
   "cell_type": "code",
   "execution_count": 12,
   "id": "c49ec713",
   "metadata": {},
   "outputs": [
    {
     "name": "stderr",
     "output_type": "stream",
     "text": [
      "Downloading: 100%|██████████| 62556/62556 [00:53<00:00, 1174.49rows/s]\n"
     ]
    }
   ],
   "source": [
    "wedge_owners_sample = pandas_gbq.read_gbq(final_owners,project_id = gbq_proj_id)"
   ]
  },
  {
   "cell_type": "code",
   "execution_count": 13,
   "id": "eaace187",
   "metadata": {},
   "outputs": [
    {
     "data": {
      "text/plain": [
       "(62556, 50)"
      ]
     },
     "execution_count": 13,
     "metadata": {},
     "output_type": "execute_result"
    }
   ],
   "source": [
    "wedge_owners_sample.shape"
   ]
  },
  {
   "cell_type": "markdown",
   "id": "bc6cd25e",
   "metadata": {},
   "source": [
    "# Save output to csv file"
   ]
  },
  {
   "cell_type": "code",
   "execution_count": 14,
   "id": "8ba91ae8",
   "metadata": {},
   "outputs": [],
   "source": [
    "wedge_owners_sample.to_csv('wedgeresults.csv')"
   ]
  }
 ],
 "metadata": {
  "kernelspec": {
   "display_name": "Python 3 (ipykernel)",
   "language": "python",
   "name": "python3"
  },
  "language_info": {
   "codemirror_mode": {
    "name": "ipython",
    "version": 3
   },
   "file_extension": ".py",
   "mimetype": "text/x-python",
   "name": "python",
   "nbconvert_exporter": "python",
   "pygments_lexer": "ipython3",
   "version": "3.9.13"
  }
 },
 "nbformat": 4,
 "nbformat_minor": 5
}
